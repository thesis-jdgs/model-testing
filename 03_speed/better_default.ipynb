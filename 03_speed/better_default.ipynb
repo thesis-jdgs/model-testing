{
 "cells": [
  {
   "cell_type": "code",
   "execution_count": 40,
   "metadata": {
    "collapsed": true
   },
   "outputs": [],
   "source": [
    "from asboostreg import SparseAdditiveBoostingRegressor\n",
    "from pmlb import fetch_data\n",
    "from sklearn.model_selection import KFold\n",
    "import numpy as np\n",
    "\n",
    "from utils import median_score"
   ]
  },
  {
   "cell_type": "code",
   "execution_count": 49,
   "outputs": [],
   "source": [
    "from math import fsum"
   ],
   "metadata": {
    "collapsed": false
   }
  },
  {
   "cell_type": "code",
   "execution_count": 41,
   "outputs": [],
   "source": [
    "n_estimators = 320\n",
    "params = {\n",
    "    \"n_estimators\": n_estimators,\n",
    "    \"learning_rate\": 0.3,\n",
    "    \"row_subsample\": 0.7,\n",
    "    \"max_bins\": 512,\n",
    "    \"l2_regularization\": 0.6,\n",
    "    \"min_samples_leaf\": 8,\n",
    "    \"max_leaves\": 32,\n",
    "    \"redundancy_exponent\": 1.0,\n",
    "    \"random_state\": 0,\n",
    "}"
   ],
   "metadata": {
    "collapsed": false
   }
  },
  {
   "cell_type": "code",
   "execution_count": 54,
   "outputs": [
    {
     "data": {
      "text/plain": "0.792"
     },
     "execution_count": 54,
     "metadata": {},
     "output_type": "execute_result"
    }
   ],
   "source": [
    "lst = [\n",
    "    .72, 1., .16, 1.08, 1.00\n",
    "]\n",
    "fsum(lst) / len(lst)"
   ],
   "metadata": {
    "collapsed": false
   }
  },
  {
   "cell_type": "code",
   "execution_count": 42,
   "outputs": [],
   "source": [
    "datos_column = [\n",
    "    \"562_cpu_small\",\n",
    "    \"197_cpu_act\",\n",
    "    \"227_cpu_small\",\n",
    "    \"564_fried\",\n",
    "    \"201_pol\"\n",
    "]"
   ],
   "metadata": {
    "collapsed": false
   }
  },
  {
   "cell_type": "code",
   "execution_count": 43,
   "outputs": [],
   "source": [
    "best_scores = [\n",
    "    0.75, 0.78, 0.75, 0.66, 0.4\n",
    "]"
   ],
   "metadata": {
    "collapsed": false
   }
  },
  {
   "cell_type": "code",
   "execution_count": 44,
   "outputs": [
    {
     "name": "stdout",
     "output_type": "stream",
     "text": [
      "562_cpu_small: 0.75\n",
      "Score: 0.74\n",
      "Ratio of default to best: 0.98\n",
      "\n",
      "197_cpu_act: 0.78\n",
      "Score: 0.76\n",
      "Ratio of default to best: 0.98\n",
      "\n",
      "227_cpu_small: 0.75\n",
      "Score: 0.74\n",
      "Ratio of default to best: 0.98\n",
      "\n",
      "564_fried: 0.66\n",
      "Score: 0.61\n",
      "Ratio of default to best: 0.92\n",
      "\n",
      "201_pol: 0.40\n",
      "Score: 0.38\n",
      "Ratio of default to best: 0.95\n",
      "\n"
     ]
    }
   ],
   "source": [
    "scores = np.empty(5, dtype=np.float64)\n",
    "for dataset, base_score in zip(datos_column, best_scores):\n",
    "    print(f\"{dataset}: {base_score:.2f}\")\n",
    "    X, y = fetch_data(dataset, return_X_y=True)\n",
    "    X = X[:, X.std(axis=0) > 0]\n",
    "    model = SparseAdditiveBoostingRegressor(**params)\n",
    "    cv = KFold()\n",
    "    for j, (train_index, test_index) in enumerate(cv.split(X)):\n",
    "        X_train, X_test = X[train_index], X[test_index]\n",
    "        y_train, y_test = y[train_index], y[test_index]\n",
    "        model.fit(X_train, y_train, validation_set=(X_test, y_test))\n",
    "        y_pred = model.predict(X_test)\n",
    "        scores[j] = median_score(y_test, y_pred)\n",
    "    score = np.mean(scores)\n",
    "    print(f\"Score: {score:.2f}\")\n",
    "    print(f\"Ratio of default to best: {score/base_score:.2f}\")\n",
    "    print()"
   ],
   "metadata": {
    "collapsed": false
   }
  },
  {
   "cell_type": "code",
   "execution_count": 44,
   "outputs": [],
   "source": [],
   "metadata": {
    "collapsed": false
   }
  }
 ],
 "metadata": {
  "kernelspec": {
   "display_name": "Python 3",
   "language": "python",
   "name": "python3"
  },
  "language_info": {
   "codemirror_mode": {
    "name": "ipython",
    "version": 2
   },
   "file_extension": ".py",
   "mimetype": "text/x-python",
   "name": "python",
   "nbconvert_exporter": "python",
   "pygments_lexer": "ipython2",
   "version": "2.7.6"
  }
 },
 "nbformat": 4,
 "nbformat_minor": 0
}
