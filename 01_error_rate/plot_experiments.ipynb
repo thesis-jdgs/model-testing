{
 "cells": [
  {
   "cell_type": "code",
   "execution_count": 6,
   "outputs": [],
   "source": [
    "import os\n",
    "\n",
    "import attrs\n",
    "import numpy as np\n",
    "import pandas as pd"
   ],
   "metadata": {
    "collapsed": false
   }
  },
  {
   "cell_type": "code",
   "execution_count": 7,
   "outputs": [],
   "source": [
    "@attrs.define\n",
    "class RunReader:\n",
    "    path: str = attrs.field()\n",
    "    score_mean: float = attrs.field(init=False)\n",
    "    score_std: float = attrs.field(init=False)\n",
    "    name: str = attrs.field(init=False)\n",
    "\n",
    "    def __attrs_post_init__(self):\n",
    "        self._set_content(\n",
    "            \"score_mean\",\n",
    "            os.path.join(self.path, \"metrics/score_mean\"),\n",
    "            lambda x:  float(x.read().split(\" \")[1]),\n",
    "        )\n",
    "        self._set_content(\n",
    "            \"score_std\",\n",
    "            os.path.join(self.path, \"metrics/score_std\"),\n",
    "            lambda x:  float(x.read().split(\" \")[1]),\n",
    "        )\n",
    "        self._set_content(\n",
    "            \"name\",\n",
    "            os.path.join(self.path, \"tags/model\"),\n",
    "            lambda x:  x.read(),\n",
    "            \"\"\n",
    "        )\n",
    "\n",
    "    def _set_content(self, attribute, path, func, default=np.nan):\n",
    "        try:\n",
    "            with open(path, \"r\") as f:\n",
    "                setattr(self, attribute, func(f))\n",
    "        except FileNotFoundError:\n",
    "            setattr(self, attribute, default)\n",
    "\n",
    "    def dict(self):\n",
    "        return {\n",
    "            \"name\": self.name,\n",
    "            \"score_mean\": self.score_mean,\n",
    "            \"score_std\": self.score_std,\n",
    "        }"
   ],
   "metadata": {
    "collapsed": false
   }
  },
  {
   "cell_type": "code",
   "execution_count": 8,
   "outputs": [],
   "source": [
    "@attrs.define\n",
    "class ExperimentReader:\n",
    "    path: str = attrs.field()\n",
    "    dataset: str = attrs.field(init=False)\n",
    "    runs: list[RunReader] = attrs.field(init=False)\n",
    "\n",
    "    def __attrs_post_init__(self):\n",
    "        with open(\n",
    "                os.path.join(self.path, \"meta.yaml\"), \"r\"\n",
    "        ) as f:\n",
    "            self.dataset = f.readlines()[-1].split(\" \")[1].strip()\n",
    "        dirs = [\n",
    "            d for d in os.listdir(self.path) if d != \"meta.yaml\"\n",
    "        ]\n",
    "        self.runs = [\n",
    "            RunReader(os.path.join(self.path, d)) for d in dirs\n",
    "        ]\n",
    "\n",
    "    def table(self):\n",
    "        df = pd.DataFrame(\n",
    "            [\n",
    "                run.dict() for run in self.runs\n",
    "            ]\n",
    "        )\n",
    "        return df\n",
    "\n",
    "    def means(self):\n",
    "        return self.table().groupby(\"name\").score_mean.max()\n",
    "\n",
    "    def stds(self):\n",
    "        return self.table().groupby(\"name\").score_std.min()\n",
    "\n",
    "    def names(self):\n",
    "        return {run.name for run in self.runs}"
   ],
   "metadata": {
    "collapsed": false
   }
  },
  {
   "cell_type": "code",
   "execution_count": 9,
   "outputs": [
    {
     "data": {
      "text/plain": "{'DecisionTreeRegressor',\n 'ExplainableBoostingRegressor',\n 'SparseAdditiveBoostingRegressor',\n 'XGBRegressor',\n 'randomforestregressor',\n 'ridgecv'}"
     },
     "execution_count": 9,
     "metadata": {},
     "output_type": "execute_result"
    }
   ],
   "source": [
    "experiment = ExperimentReader(\"mlruns/100940072706001416\")\n",
    "experiment.names()"
   ],
   "metadata": {
    "collapsed": false
   }
  },
  {
   "cell_type": "code",
   "execution_count": 10,
   "outputs": [
    {
     "data": {
      "text/plain": "'657_fri_c2_250_10'"
     },
     "execution_count": 10,
     "metadata": {},
     "output_type": "execute_result"
    }
   ],
   "source": [
    "experiment.dataset"
   ],
   "metadata": {
    "collapsed": false
   }
  },
  {
   "cell_type": "code",
   "execution_count": 11,
   "outputs": [
    {
     "data": {
      "text/plain": "name                 DecisionTreeRegressor  ExplainableBoostingRegressor  \\\n215_2dplanes                      0.698090                      0.778966   \n344_mv                            0.989932                      0.958052   \n562_cpu_small                     0.707279                      0.781496   \n197_cpu_act                       0.749382                      0.814054   \n294_satellite_image               0.756934                      0.629802   \n573_cpu_act                       0.749382                      0.814054   \n227_cpu_small                     0.707279                      0.781496   \n564_fried                         0.614116                      0.787943   \n201_pol                           0.930462                      0.662913   \n\nname                 OptunaSearchCV  SparseAdditiveBoostingRegressor  \\\n215_2dplanes              -0.000146                        -0.000150   \n344_mv                    -0.015755                         0.115376   \n562_cpu_small              0.750862                         0.416292   \n197_cpu_act                0.776858                         0.761979   \n294_satellite_image       -0.242676                         0.521694   \n573_cpu_act                0.776954                        -0.078339   \n227_cpu_small              0.729649                         0.238467   \n564_fried                  0.663389                         0.324129   \n201_pol                   -0.285790                        -0.242656   \n\nname                 XGBRegressor  randomforestregressor   ridgecv  \n215_2dplanes             0.774709               0.083430  0.466857  \n344_mv                   0.988259               0.990098  0.599386  \n562_cpu_small            0.797230               0.791282  0.359278  \n197_cpu_act              0.827954               0.819547  0.370730  \n294_satellite_image      0.740567               0.758952  0.347154  \n573_cpu_act              0.827954               0.819547  0.370730  \n227_cpu_small            0.797230               0.791282  0.359278  \n564_fried                0.774388               0.748663  0.498473  \n201_pol                  0.916410               0.941184  0.080980  ",
      "text/html": "<div>\n<style scoped>\n    .dataframe tbody tr th:only-of-type {\n        vertical-align: middle;\n    }\n\n    .dataframe tbody tr th {\n        vertical-align: top;\n    }\n\n    .dataframe thead th {\n        text-align: right;\n    }\n</style>\n<table border=\"1\" class=\"dataframe\">\n  <thead>\n    <tr style=\"text-align: right;\">\n      <th>name</th>\n      <th>DecisionTreeRegressor</th>\n      <th>ExplainableBoostingRegressor</th>\n      <th>OptunaSearchCV</th>\n      <th>SparseAdditiveBoostingRegressor</th>\n      <th>XGBRegressor</th>\n      <th>randomforestregressor</th>\n      <th>ridgecv</th>\n    </tr>\n  </thead>\n  <tbody>\n    <tr>\n      <th>215_2dplanes</th>\n      <td>0.698090</td>\n      <td>0.778966</td>\n      <td>-0.000146</td>\n      <td>-0.000150</td>\n      <td>0.774709</td>\n      <td>0.083430</td>\n      <td>0.466857</td>\n    </tr>\n    <tr>\n      <th>344_mv</th>\n      <td>0.989932</td>\n      <td>0.958052</td>\n      <td>-0.015755</td>\n      <td>0.115376</td>\n      <td>0.988259</td>\n      <td>0.990098</td>\n      <td>0.599386</td>\n    </tr>\n    <tr>\n      <th>562_cpu_small</th>\n      <td>0.707279</td>\n      <td>0.781496</td>\n      <td>0.750862</td>\n      <td>0.416292</td>\n      <td>0.797230</td>\n      <td>0.791282</td>\n      <td>0.359278</td>\n    </tr>\n    <tr>\n      <th>197_cpu_act</th>\n      <td>0.749382</td>\n      <td>0.814054</td>\n      <td>0.776858</td>\n      <td>0.761979</td>\n      <td>0.827954</td>\n      <td>0.819547</td>\n      <td>0.370730</td>\n    </tr>\n    <tr>\n      <th>294_satellite_image</th>\n      <td>0.756934</td>\n      <td>0.629802</td>\n      <td>-0.242676</td>\n      <td>0.521694</td>\n      <td>0.740567</td>\n      <td>0.758952</td>\n      <td>0.347154</td>\n    </tr>\n    <tr>\n      <th>573_cpu_act</th>\n      <td>0.749382</td>\n      <td>0.814054</td>\n      <td>0.776954</td>\n      <td>-0.078339</td>\n      <td>0.827954</td>\n      <td>0.819547</td>\n      <td>0.370730</td>\n    </tr>\n    <tr>\n      <th>227_cpu_small</th>\n      <td>0.707279</td>\n      <td>0.781496</td>\n      <td>0.729649</td>\n      <td>0.238467</td>\n      <td>0.797230</td>\n      <td>0.791282</td>\n      <td>0.359278</td>\n    </tr>\n    <tr>\n      <th>564_fried</th>\n      <td>0.614116</td>\n      <td>0.787943</td>\n      <td>0.663389</td>\n      <td>0.324129</td>\n      <td>0.774388</td>\n      <td>0.748663</td>\n      <td>0.498473</td>\n    </tr>\n    <tr>\n      <th>201_pol</th>\n      <td>0.930462</td>\n      <td>0.662913</td>\n      <td>-0.285790</td>\n      <td>-0.242656</td>\n      <td>0.916410</td>\n      <td>0.941184</td>\n      <td>0.080980</td>\n    </tr>\n  </tbody>\n</table>\n</div>"
     },
     "execution_count": 11,
     "metadata": {},
     "output_type": "execute_result"
    }
   ],
   "source": [
    "dirs = os.listdir(\"mlruns\")[2:-1]\n",
    "mean_list = []\n",
    "std_list = []\n",
    "datasets = ['215_2dplanes', '344_mv', '562_cpu_small', '197_cpu_act', '294_satellite_image', '573_cpu_act', '227_cpu_small', '564_fried', '201_pol']\n",
    "for dir_ in dirs:\n",
    "    experiment = ExperimentReader(os.path.join(\"mlruns\", dir_))\n",
    "    if experiment.dataset in datasets:\n",
    "        mean_list.append(experiment.means())\n",
    "        std_list.append(experiment.stds())\n",
    "mean_df = pd.concat(mean_list, axis=1).T.reset_index(drop=True)\n",
    "std_df = pd.concat(std_list, axis=1).T.reset_index(drop=True)\n",
    "mean_df.index = datasets\n",
    "std_df.index = datasets\n",
    "mean_df"
   ],
   "metadata": {
    "collapsed": false
   }
  },
  {
   "cell_type": "code",
   "execution_count": 12,
   "outputs": [
    {
     "data": {
      "text/plain": "name                 DecisionTreeRegressor  ExplainableBoostingRegressor  \\\n215_2dplanes                      0.698090                      0.778966   \n344_mv                            0.989932                      0.958052   \n562_cpu_small                     0.707279                      0.781496   \n197_cpu_act                       0.749382                      0.814054   \n294_satellite_image               0.756934                      0.629802   \n573_cpu_act                       0.749382                      0.814054   \n227_cpu_small                     0.707279                      0.781496   \n564_fried                         0.614116                      0.787943   \n201_pol                           0.930462                      0.662913   \n\nname                 SparseAdditiveBoostingRegressor  XGBRegressor  \\\n215_2dplanes                               -0.000146      0.774709   \n344_mv                                      0.115376      0.988259   \n562_cpu_small                               0.750862      0.797230   \n197_cpu_act                                 0.776858      0.827954   \n294_satellite_image                         0.521694      0.740567   \n573_cpu_act                                 0.776954      0.827954   \n227_cpu_small                               0.729649      0.797230   \n564_fried                                   0.663389      0.774388   \n201_pol                                    -0.242656      0.916410   \n\nname                 randomforestregressor   ridgecv  \n215_2dplanes                      0.083430  0.466857  \n344_mv                            0.990098  0.599386  \n562_cpu_small                     0.791282  0.359278  \n197_cpu_act                       0.819547  0.370730  \n294_satellite_image               0.758952  0.347154  \n573_cpu_act                       0.819547  0.370730  \n227_cpu_small                     0.791282  0.359278  \n564_fried                         0.748663  0.498473  \n201_pol                           0.941184  0.080980  ",
      "text/html": "<div>\n<style scoped>\n    .dataframe tbody tr th:only-of-type {\n        vertical-align: middle;\n    }\n\n    .dataframe tbody tr th {\n        vertical-align: top;\n    }\n\n    .dataframe thead th {\n        text-align: right;\n    }\n</style>\n<table border=\"1\" class=\"dataframe\">\n  <thead>\n    <tr style=\"text-align: right;\">\n      <th>name</th>\n      <th>DecisionTreeRegressor</th>\n      <th>ExplainableBoostingRegressor</th>\n      <th>SparseAdditiveBoostingRegressor</th>\n      <th>XGBRegressor</th>\n      <th>randomforestregressor</th>\n      <th>ridgecv</th>\n    </tr>\n  </thead>\n  <tbody>\n    <tr>\n      <th>215_2dplanes</th>\n      <td>0.698090</td>\n      <td>0.778966</td>\n      <td>-0.000146</td>\n      <td>0.774709</td>\n      <td>0.083430</td>\n      <td>0.466857</td>\n    </tr>\n    <tr>\n      <th>344_mv</th>\n      <td>0.989932</td>\n      <td>0.958052</td>\n      <td>0.115376</td>\n      <td>0.988259</td>\n      <td>0.990098</td>\n      <td>0.599386</td>\n    </tr>\n    <tr>\n      <th>562_cpu_small</th>\n      <td>0.707279</td>\n      <td>0.781496</td>\n      <td>0.750862</td>\n      <td>0.797230</td>\n      <td>0.791282</td>\n      <td>0.359278</td>\n    </tr>\n    <tr>\n      <th>197_cpu_act</th>\n      <td>0.749382</td>\n      <td>0.814054</td>\n      <td>0.776858</td>\n      <td>0.827954</td>\n      <td>0.819547</td>\n      <td>0.370730</td>\n    </tr>\n    <tr>\n      <th>294_satellite_image</th>\n      <td>0.756934</td>\n      <td>0.629802</td>\n      <td>0.521694</td>\n      <td>0.740567</td>\n      <td>0.758952</td>\n      <td>0.347154</td>\n    </tr>\n    <tr>\n      <th>573_cpu_act</th>\n      <td>0.749382</td>\n      <td>0.814054</td>\n      <td>0.776954</td>\n      <td>0.827954</td>\n      <td>0.819547</td>\n      <td>0.370730</td>\n    </tr>\n    <tr>\n      <th>227_cpu_small</th>\n      <td>0.707279</td>\n      <td>0.781496</td>\n      <td>0.729649</td>\n      <td>0.797230</td>\n      <td>0.791282</td>\n      <td>0.359278</td>\n    </tr>\n    <tr>\n      <th>564_fried</th>\n      <td>0.614116</td>\n      <td>0.787943</td>\n      <td>0.663389</td>\n      <td>0.774388</td>\n      <td>0.748663</td>\n      <td>0.498473</td>\n    </tr>\n    <tr>\n      <th>201_pol</th>\n      <td>0.930462</td>\n      <td>0.662913</td>\n      <td>-0.242656</td>\n      <td>0.916410</td>\n      <td>0.941184</td>\n      <td>0.080980</td>\n    </tr>\n  </tbody>\n</table>\n</div>"
     },
     "execution_count": 12,
     "metadata": {},
     "output_type": "execute_result"
    }
   ],
   "source": [
    "thesis_table = mean_df.copy()\n",
    "thesis_table[\"SparseAdditiveBoostingRegressor\"] = (\n",
    "    thesis_table[\n",
    "        [\"SparseAdditiveBoostingRegressor\", \"OptunaSearchCV\"]\n",
    "    ].max(axis=1)\n",
    ")\n",
    "thesis_table = thesis_table[thesis_table[\"SparseAdditiveBoostingRegressor\"].notna()]\n",
    "thesis_table.drop(columns=[\"OptunaSearchCV\"], inplace=True)\n",
    "thesis_table"
   ],
   "metadata": {
    "collapsed": false
   }
  },
  {
   "cell_type": "code",
   "execution_count": 14,
   "outputs": [
    {
     "data": {
      "text/plain": "name                 DecisionTreeRegressor  ExplainableBoostingRegressor  \\\n215_2dplanes                      0.001649                      0.001544   \n344_mv                            0.000060                      0.000705   \n562_cpu_small                     0.009778                      0.004991   \n197_cpu_act                       0.007284                      0.004320   \n294_satellite_image               0.015286                      0.018081   \n573_cpu_act                       0.007284                      0.004320   \n227_cpu_small                     0.009778                      0.004991   \n564_fried                         0.001297                      0.001453   \n201_pol                           0.002242                      0.007636   \n\nname                 SparseAdditiveBoostingRegressor  XGBRegressor  \\\n215_2dplanes                                0.000072      0.001576   \n344_mv                                      0.001335      0.000183   \n562_cpu_small                               0.006242      0.006822   \n197_cpu_act                                 0.004832      0.004635   \n294_satellite_image                         0.016266      0.015747   \n573_cpu_act                                 0.006776      0.004635   \n227_cpu_small                               0.005900      0.006822   \n564_fried                                   0.000957      0.001000   \n201_pol                                     0.006554      0.001389   \n\nname                 randomforestregressor   ridgecv  \n215_2dplanes                      0.002397  0.003678  \n344_mv                            0.000485  0.002025  \n562_cpu_small                     0.006463  0.014820  \n197_cpu_act                       0.006497  0.014121  \n294_satellite_image               0.013389  0.063308  \n573_cpu_act                       0.006497  0.014121  \n227_cpu_small                     0.006463  0.014820  \n564_fried                         0.001052  0.001484  \n201_pol                           0.001419  0.006831  ",
      "text/html": "<div>\n<style scoped>\n    .dataframe tbody tr th:only-of-type {\n        vertical-align: middle;\n    }\n\n    .dataframe tbody tr th {\n        vertical-align: top;\n    }\n\n    .dataframe thead th {\n        text-align: right;\n    }\n</style>\n<table border=\"1\" class=\"dataframe\">\n  <thead>\n    <tr style=\"text-align: right;\">\n      <th>name</th>\n      <th>DecisionTreeRegressor</th>\n      <th>ExplainableBoostingRegressor</th>\n      <th>SparseAdditiveBoostingRegressor</th>\n      <th>XGBRegressor</th>\n      <th>randomforestregressor</th>\n      <th>ridgecv</th>\n    </tr>\n  </thead>\n  <tbody>\n    <tr>\n      <th>215_2dplanes</th>\n      <td>0.001649</td>\n      <td>0.001544</td>\n      <td>0.000072</td>\n      <td>0.001576</td>\n      <td>0.002397</td>\n      <td>0.003678</td>\n    </tr>\n    <tr>\n      <th>344_mv</th>\n      <td>0.000060</td>\n      <td>0.000705</td>\n      <td>0.001335</td>\n      <td>0.000183</td>\n      <td>0.000485</td>\n      <td>0.002025</td>\n    </tr>\n    <tr>\n      <th>562_cpu_small</th>\n      <td>0.009778</td>\n      <td>0.004991</td>\n      <td>0.006242</td>\n      <td>0.006822</td>\n      <td>0.006463</td>\n      <td>0.014820</td>\n    </tr>\n    <tr>\n      <th>197_cpu_act</th>\n      <td>0.007284</td>\n      <td>0.004320</td>\n      <td>0.004832</td>\n      <td>0.004635</td>\n      <td>0.006497</td>\n      <td>0.014121</td>\n    </tr>\n    <tr>\n      <th>294_satellite_image</th>\n      <td>0.015286</td>\n      <td>0.018081</td>\n      <td>0.016266</td>\n      <td>0.015747</td>\n      <td>0.013389</td>\n      <td>0.063308</td>\n    </tr>\n    <tr>\n      <th>573_cpu_act</th>\n      <td>0.007284</td>\n      <td>0.004320</td>\n      <td>0.006776</td>\n      <td>0.004635</td>\n      <td>0.006497</td>\n      <td>0.014121</td>\n    </tr>\n    <tr>\n      <th>227_cpu_small</th>\n      <td>0.009778</td>\n      <td>0.004991</td>\n      <td>0.005900</td>\n      <td>0.006822</td>\n      <td>0.006463</td>\n      <td>0.014820</td>\n    </tr>\n    <tr>\n      <th>564_fried</th>\n      <td>0.001297</td>\n      <td>0.001453</td>\n      <td>0.000957</td>\n      <td>0.001000</td>\n      <td>0.001052</td>\n      <td>0.001484</td>\n    </tr>\n    <tr>\n      <th>201_pol</th>\n      <td>0.002242</td>\n      <td>0.007636</td>\n      <td>0.006554</td>\n      <td>0.001389</td>\n      <td>0.001419</td>\n      <td>0.006831</td>\n    </tr>\n  </tbody>\n</table>\n</div>"
     },
     "execution_count": 14,
     "metadata": {},
     "output_type": "execute_result"
    }
   ],
   "source": [
    "std_table = std_df.copy()\n",
    "std_table[\"SparseAdditiveBoostingRegressor\"] = (\n",
    "    std_table[\n",
    "        [\"SparseAdditiveBoostingRegressor\", \"OptunaSearchCV\"]\n",
    "    ].min(axis=1)\n",
    ")\n",
    "std_table.drop(columns=[\"OptunaSearchCV\"], inplace=True)\n",
    "ste_table = (std_table / np.sqrt(5)).loc[thesis_table.index]\n",
    "ste_table"
   ],
   "metadata": {
    "collapsed": false
   }
  },
  {
   "cell_type": "code",
   "execution_count": 15,
   "outputs": [
    {
     "data": {
      "text/plain": "name                DecisionTreeRegressor ExplainableBoostingRegressor  \\\n215_2dplanes                0.698 (0.002)                0.779 (0.002)   \n344_mv                      0.990 (0.000)                0.958 (0.001)   \n562_cpu_small               0.707 (0.010)                0.781 (0.005)   \n197_cpu_act                 0.749 (0.007)                0.814 (0.004)   \n294_satellite_image         0.757 (0.015)                0.630 (0.018)   \n573_cpu_act                 0.749 (0.007)                0.814 (0.004)   \n227_cpu_small               0.707 (0.010)                0.781 (0.005)   \n564_fried                   0.614 (0.001)                0.788 (0.001)   \n201_pol                     0.930 (0.002)                0.663 (0.008)   \n\nname                SparseAdditiveBoostingRegressor   XGBRegressor  \\\n215_2dplanes                         -0.000 (0.000)  0.775 (0.002)   \n344_mv                                0.115 (0.001)  0.988 (0.000)   \n562_cpu_small                         0.751 (0.006)  0.797 (0.007)   \n197_cpu_act                           0.777 (0.005)  0.828 (0.005)   \n294_satellite_image                   0.522 (0.016)  0.741 (0.016)   \n573_cpu_act                           0.777 (0.007)  0.828 (0.005)   \n227_cpu_small                         0.730 (0.006)  0.797 (0.007)   \n564_fried                             0.663 (0.001)  0.774 (0.001)   \n201_pol                              -0.243 (0.007)  0.916 (0.001)   \n\nname                randomforestregressor        ridgecv  \n215_2dplanes                0.083 (0.002)  0.467 (0.004)  \n344_mv                      0.990 (0.000)  0.599 (0.002)  \n562_cpu_small               0.791 (0.006)  0.359 (0.015)  \n197_cpu_act                 0.820 (0.006)  0.371 (0.014)  \n294_satellite_image         0.759 (0.013)  0.347 (0.063)  \n573_cpu_act                 0.820 (0.006)  0.371 (0.014)  \n227_cpu_small               0.791 (0.006)  0.359 (0.015)  \n564_fried                   0.749 (0.001)  0.498 (0.001)  \n201_pol                     0.941 (0.001)  0.081 (0.007)  ",
      "text/html": "<div>\n<style scoped>\n    .dataframe tbody tr th:only-of-type {\n        vertical-align: middle;\n    }\n\n    .dataframe tbody tr th {\n        vertical-align: top;\n    }\n\n    .dataframe thead th {\n        text-align: right;\n    }\n</style>\n<table border=\"1\" class=\"dataframe\">\n  <thead>\n    <tr style=\"text-align: right;\">\n      <th>name</th>\n      <th>DecisionTreeRegressor</th>\n      <th>ExplainableBoostingRegressor</th>\n      <th>SparseAdditiveBoostingRegressor</th>\n      <th>XGBRegressor</th>\n      <th>randomforestregressor</th>\n      <th>ridgecv</th>\n    </tr>\n  </thead>\n  <tbody>\n    <tr>\n      <th>215_2dplanes</th>\n      <td>0.698 (0.002)</td>\n      <td>0.779 (0.002)</td>\n      <td>-0.000 (0.000)</td>\n      <td>0.775 (0.002)</td>\n      <td>0.083 (0.002)</td>\n      <td>0.467 (0.004)</td>\n    </tr>\n    <tr>\n      <th>344_mv</th>\n      <td>0.990 (0.000)</td>\n      <td>0.958 (0.001)</td>\n      <td>0.115 (0.001)</td>\n      <td>0.988 (0.000)</td>\n      <td>0.990 (0.000)</td>\n      <td>0.599 (0.002)</td>\n    </tr>\n    <tr>\n      <th>562_cpu_small</th>\n      <td>0.707 (0.010)</td>\n      <td>0.781 (0.005)</td>\n      <td>0.751 (0.006)</td>\n      <td>0.797 (0.007)</td>\n      <td>0.791 (0.006)</td>\n      <td>0.359 (0.015)</td>\n    </tr>\n    <tr>\n      <th>197_cpu_act</th>\n      <td>0.749 (0.007)</td>\n      <td>0.814 (0.004)</td>\n      <td>0.777 (0.005)</td>\n      <td>0.828 (0.005)</td>\n      <td>0.820 (0.006)</td>\n      <td>0.371 (0.014)</td>\n    </tr>\n    <tr>\n      <th>294_satellite_image</th>\n      <td>0.757 (0.015)</td>\n      <td>0.630 (0.018)</td>\n      <td>0.522 (0.016)</td>\n      <td>0.741 (0.016)</td>\n      <td>0.759 (0.013)</td>\n      <td>0.347 (0.063)</td>\n    </tr>\n    <tr>\n      <th>573_cpu_act</th>\n      <td>0.749 (0.007)</td>\n      <td>0.814 (0.004)</td>\n      <td>0.777 (0.007)</td>\n      <td>0.828 (0.005)</td>\n      <td>0.820 (0.006)</td>\n      <td>0.371 (0.014)</td>\n    </tr>\n    <tr>\n      <th>227_cpu_small</th>\n      <td>0.707 (0.010)</td>\n      <td>0.781 (0.005)</td>\n      <td>0.730 (0.006)</td>\n      <td>0.797 (0.007)</td>\n      <td>0.791 (0.006)</td>\n      <td>0.359 (0.015)</td>\n    </tr>\n    <tr>\n      <th>564_fried</th>\n      <td>0.614 (0.001)</td>\n      <td>0.788 (0.001)</td>\n      <td>0.663 (0.001)</td>\n      <td>0.774 (0.001)</td>\n      <td>0.749 (0.001)</td>\n      <td>0.498 (0.001)</td>\n    </tr>\n    <tr>\n      <th>201_pol</th>\n      <td>0.930 (0.002)</td>\n      <td>0.663 (0.008)</td>\n      <td>-0.243 (0.007)</td>\n      <td>0.916 (0.001)</td>\n      <td>0.941 (0.001)</td>\n      <td>0.081 (0.007)</td>\n    </tr>\n  </tbody>\n</table>\n</div>"
     },
     "execution_count": 15,
     "metadata": {},
     "output_type": "execute_result"
    }
   ],
   "source": [
    "# turn each element of the table into strings\n",
    "str_table = thesis_table.map(lambda x: f\"{x:.3f}\")\n",
    "str_table = str_table + \" (\" + ste_table.map(lambda x: f\"{x:.3f}\") + \")\"\n",
    "str_table"
   ],
   "metadata": {
    "collapsed": false
   }
  },
  {
   "cell_type": "code",
   "execution_count": 16,
   "outputs": [],
   "source": [
    "from pmlb import fetch_data\n",
    "\n",
    "cpu_act_197 = fetch_data(\"197_cpu_act\")\n",
    "cpu_act_573 = fetch_data(\"573_cpu_act\")"
   ],
   "metadata": {
    "collapsed": false
   }
  },
  {
   "cell_type": "code",
   "execution_count": 20,
   "outputs": [
    {
     "data": {
      "text/plain": "True"
     },
     "execution_count": 20,
     "metadata": {},
     "output_type": "execute_result"
    }
   ],
   "source": [
    "(cpu_act_197 == cpu_act_573).all().all()"
   ],
   "metadata": {
    "collapsed": false
   }
  },
  {
   "cell_type": "code",
   "execution_count": 17,
   "outputs": [
    {
     "name": "stdout",
     "output_type": "stream",
     "text": [
      "['215_2dplanes', '344_mv', '562_cpu_small', '197_cpu_act', '294_satellite_image', '573_cpu_act', '227_cpu_small', '564_fried', '201_pol']\n"
     ]
    }
   ],
   "source": [
    "print(list(thesis_table_.index))"
   ],
   "metadata": {
    "collapsed": false
   }
  }
 ],
 "metadata": {
  "kernelspec": {
   "display_name": "Python 3",
   "language": "python",
   "name": "python3"
  },
  "language_info": {
   "codemirror_mode": {
    "name": "ipython",
    "version": 2
   },
   "file_extension": ".py",
   "mimetype": "text/x-python",
   "name": "python",
   "nbconvert_exporter": "python",
   "pygments_lexer": "ipython2",
   "version": "2.7.6"
  }
 },
 "nbformat": 4,
 "nbformat_minor": 0
}
