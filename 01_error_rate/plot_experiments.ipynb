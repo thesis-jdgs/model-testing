{
 "cells": [
  {
   "cell_type": "code",
   "execution_count": 42,
   "metadata": {
    "collapsed": true
   },
   "outputs": [],
   "source": [
    "import os\n",
    "\n",
    "import attrs\n",
    "import numpy as np\n",
    "import pandas as pd"
   ]
  },
  {
   "cell_type": "code",
   "execution_count": 35,
   "outputs": [],
   "source": [
    "@attrs.define\n",
    "class RunReader:\n",
    "    path: str = attrs.field()\n",
    "    score_mean: float = attrs.field(init=False)\n",
    "    score_std: float = attrs.field(init=False)\n",
    "    name: str = attrs.field(init=False)\n",
    "\n",
    "    def __attrs_post_init__(self):\n",
    "        with open(\n",
    "                os.path.join(self.path, \"metrics/score_mean\"), \"r\"\n",
    "        ) as f:\n",
    "            self.score_mean = float(f.read().split(\" \")[1])\n",
    "        with open(\n",
    "                os.path.join(self.path, \"metrics/score_std\"), \"r\"\n",
    "        ) as f:\n",
    "            self.score_std = float(f.read().split(\" \")[1])\n",
    "        with open(\n",
    "                os.path.join(self.path, \"tags/model\"), \"r\"\n",
    "        ) as f:\n",
    "            self.name = f.read()\n",
    "\n",
    "    def dict(self):\n",
    "        return {\n",
    "            \"name\": self.name,\n",
    "            \"score_mean\": self.score_mean,\n",
    "            \"score_std\": self.score_std,\n",
    "        }"
   ],
   "metadata": {
    "collapsed": false
   }
  },
  {
   "cell_type": "code",
   "execution_count": 37,
   "outputs": [
    {
     "data": {
      "text/plain": "{'name': 'SparseAdditiveBoostingRegressor',\n 'score_mean': 0.2199131782651799,\n 'score_std': 0.05131371566158607}"
     },
     "execution_count": 37,
     "metadata": {},
     "output_type": "execute_result"
    }
   ],
   "source": [
    "r = RunReader(\n",
    "    \"mlruns/100940072706001416/3af9add646884a6b9ed3d690a6bed09a\"\n",
    ")\n",
    "r.dict()"
   ],
   "metadata": {
    "collapsed": false
   }
  },
  {
   "cell_type": "code",
   "execution_count": 89,
   "outputs": [],
   "source": [
    "@attrs.define\n",
    "class ExperimentReader:\n",
    "    path: str = attrs.field()\n",
    "    runs: list[RunReader] = attrs.field(init=False)\n",
    "\n",
    "    def __attrs_post_init__(self):\n",
    "        dirs = [\n",
    "            d for d in os.listdir(self.path) if d != \"meta.yaml\"\n",
    "        ]\n",
    "        self.runs = [\n",
    "            RunReader(os.path.join(self.path, d)) for d in dirs\n",
    "        ]\n",
    "\n",
    "    def table(self):\n",
    "        df = pd.DataFrame(\n",
    "            [\n",
    "                run.dict() for run in self.runs\n",
    "            ]\n",
    "        )\n",
    "        return df\n",
    "\n",
    "    def mean_ranking(self):\n",
    "        return self.table().groupby(\"name\").score_mean.max() #.rank(ascending=False)\n",
    "\n",
    "    def std_ranking(self):\n",
    "        return self.table().groupby(\"name\").score_std.min() #.rank(ascending=True)"
   ],
   "metadata": {
    "collapsed": false
   }
  },
  {
   "cell_type": "code",
   "execution_count": 90,
   "outputs": [
    {
     "data": {
      "text/plain": "Empty DataFrame\nColumns: [DecisionTreeRegressor, RandomForestRegressor, ExplainableBoostingRegressor, SparseAdditiveBoostingRegressor, XGBRegressor, randomforestregressor, ridgecv]\nIndex: []",
      "text/html": "<div>\n<style scoped>\n    .dataframe tbody tr th:only-of-type {\n        vertical-align: middle;\n    }\n\n    .dataframe tbody tr th {\n        vertical-align: top;\n    }\n\n    .dataframe thead th {\n        text-align: right;\n    }\n</style>\n<table border=\"1\" class=\"dataframe\">\n  <thead>\n    <tr style=\"text-align: right;\">\n      <th></th>\n      <th>DecisionTreeRegressor</th>\n      <th>RandomForestRegressor</th>\n      <th>ExplainableBoostingRegressor</th>\n      <th>SparseAdditiveBoostingRegressor</th>\n      <th>XGBRegressor</th>\n      <th>randomforestregressor</th>\n      <th>ridgecv</th>\n    </tr>\n  </thead>\n  <tbody>\n  </tbody>\n</table>\n</div>"
     },
     "execution_count": 90,
     "metadata": {},
     "output_type": "execute_result"
    }
   ],
   "source": [
    "df = pd.DataFrame(\n",
    "    columns=[\n",
    "        \"DecisionTreeRegressor\",\n",
    "        \"RandomForestRegressor\",\n",
    "        \"ExplainableBoostingRegressor\",\n",
    "        \"SparseAdditiveBoostingRegressor\",\n",
    "        \"XGBRegressor\",\n",
    "        \"randomforestregressor\",\n",
    "        \"ridgecv\",\n",
    "    ]\n",
    ")\n",
    "df"
   ],
   "metadata": {
    "collapsed": false
   }
  },
  {
   "cell_type": "code",
   "execution_count": 92,
   "outputs": [
    {
     "data": {
      "text/plain": "name  DecisionTreeRegressor  ExplainableBoostingRegressor  \\\n0                  0.492598                      0.580912   \n1                  0.438221                      0.365574   \n2                  0.484158                      0.504628   \n3                  0.348067                      0.389941   \n4                  0.422491                      0.334714   \n..                      ...                           ...   \n103                0.435461                      0.616364   \n104                0.484984                      0.646965   \n105                0.544795                      0.729106   \n106                0.545170                      0.709915   \n107                0.337382                      0.599366   \n\nname  SparseAdditiveBoostingRegressor  XGBRegressor  randomforestregressor  \\\n0                            0.293820      0.621120               0.618507   \n1                            0.053777      0.647405               0.603019   \n2                            0.404053      0.703878               0.644872   \n3                           -0.029653      0.361401               0.470077   \n4                            0.053209      0.613659               0.571743   \n..                                ...           ...                    ...   \n103                          0.521694      0.558074               0.593470   \n104                          0.282799      0.629755               0.615132   \n105                          0.361839      0.721147               0.690359   \n106                          0.108542      0.727677               0.695060   \n107                          0.045015      0.426538               0.485580   \n\nname   ridgecv  \n0     0.063680  \n1     0.036903  \n2     0.095868  \n3     0.389633  \n4     0.071548  \n..         ...  \n103   0.627920  \n104   0.132180  \n105   0.131432  \n106   0.067148  \n107   0.071688  \n\n[108 rows x 6 columns]",
      "text/html": "<div>\n<style scoped>\n    .dataframe tbody tr th:only-of-type {\n        vertical-align: middle;\n    }\n\n    .dataframe tbody tr th {\n        vertical-align: top;\n    }\n\n    .dataframe thead th {\n        text-align: right;\n    }\n</style>\n<table border=\"1\" class=\"dataframe\">\n  <thead>\n    <tr style=\"text-align: right;\">\n      <th>name</th>\n      <th>DecisionTreeRegressor</th>\n      <th>ExplainableBoostingRegressor</th>\n      <th>SparseAdditiveBoostingRegressor</th>\n      <th>XGBRegressor</th>\n      <th>randomforestregressor</th>\n      <th>ridgecv</th>\n    </tr>\n  </thead>\n  <tbody>\n    <tr>\n      <th>0</th>\n      <td>0.492598</td>\n      <td>0.580912</td>\n      <td>0.293820</td>\n      <td>0.621120</td>\n      <td>0.618507</td>\n      <td>0.063680</td>\n    </tr>\n    <tr>\n      <th>1</th>\n      <td>0.438221</td>\n      <td>0.365574</td>\n      <td>0.053777</td>\n      <td>0.647405</td>\n      <td>0.603019</td>\n      <td>0.036903</td>\n    </tr>\n    <tr>\n      <th>2</th>\n      <td>0.484158</td>\n      <td>0.504628</td>\n      <td>0.404053</td>\n      <td>0.703878</td>\n      <td>0.644872</td>\n      <td>0.095868</td>\n    </tr>\n    <tr>\n      <th>3</th>\n      <td>0.348067</td>\n      <td>0.389941</td>\n      <td>-0.029653</td>\n      <td>0.361401</td>\n      <td>0.470077</td>\n      <td>0.389633</td>\n    </tr>\n    <tr>\n      <th>4</th>\n      <td>0.422491</td>\n      <td>0.334714</td>\n      <td>0.053209</td>\n      <td>0.613659</td>\n      <td>0.571743</td>\n      <td>0.071548</td>\n    </tr>\n    <tr>\n      <th>...</th>\n      <td>...</td>\n      <td>...</td>\n      <td>...</td>\n      <td>...</td>\n      <td>...</td>\n      <td>...</td>\n    </tr>\n    <tr>\n      <th>103</th>\n      <td>0.435461</td>\n      <td>0.616364</td>\n      <td>0.521694</td>\n      <td>0.558074</td>\n      <td>0.593470</td>\n      <td>0.627920</td>\n    </tr>\n    <tr>\n      <th>104</th>\n      <td>0.484984</td>\n      <td>0.646965</td>\n      <td>0.282799</td>\n      <td>0.629755</td>\n      <td>0.615132</td>\n      <td>0.132180</td>\n    </tr>\n    <tr>\n      <th>105</th>\n      <td>0.544795</td>\n      <td>0.729106</td>\n      <td>0.361839</td>\n      <td>0.721147</td>\n      <td>0.690359</td>\n      <td>0.131432</td>\n    </tr>\n    <tr>\n      <th>106</th>\n      <td>0.545170</td>\n      <td>0.709915</td>\n      <td>0.108542</td>\n      <td>0.727677</td>\n      <td>0.695060</td>\n      <td>0.067148</td>\n    </tr>\n    <tr>\n      <th>107</th>\n      <td>0.337382</td>\n      <td>0.599366</td>\n      <td>0.045015</td>\n      <td>0.426538</td>\n      <td>0.485580</td>\n      <td>0.071688</td>\n    </tr>\n  </tbody>\n</table>\n<p>108 rows × 6 columns</p>\n</div>"
     },
     "execution_count": 92,
     "metadata": {},
     "output_type": "execute_result"
    }
   ],
   "source": [
    "dirs = os.listdir(\"mlruns\")[2:-1]\n",
    "df_list = []\n",
    "exceptions = []\n",
    "for dir in dirs:\n",
    "    try:\n",
    "        experiment = ExperimentReader(os.path.join(\"mlruns\", dir))\n",
    "        mean_ranking = experiment.mean_ranking()\n",
    "        df_list.append(mean_ranking)\n",
    "    except FileNotFoundError as e:\n",
    "        exceptions.append(e.filename)\n",
    "        continue\n",
    "merged_df = pd.concat(df_list, axis=1).T.reset_index(drop=True)\n",
    "merged_df"
   ],
   "metadata": {
    "collapsed": false
   }
  },
  {
   "cell_type": "code",
   "execution_count": 96,
   "outputs": [
    {
     "data": {
      "text/plain": "name\nDecisionTreeRegressor              0.989932\nExplainableBoostingRegressor       0.958052\nSparseAdditiveBoostingRegressor    0.881272\nXGBRegressor                       0.988259\nrandomforestregressor              0.990098\nridgecv                            0.921774\ndtype: float64"
     },
     "execution_count": 96,
     "metadata": {},
     "output_type": "execute_result"
    }
   ],
   "source": [
    "merged_df.max(axis=0)"
   ],
   "metadata": {
    "collapsed": false
   }
  },
  {
   "cell_type": "code",
   "execution_count": 82,
   "outputs": [
    {
     "data": {
      "text/plain": "name\nDecisionTreeRegressor              4.0\nExplainableBoostingRegressor       3.0\nSparseAdditiveBoostingRegressor    5.0\nXGBRegressor                       1.0\nrandomforestregressor              2.0\nridgecv                            6.0\nName: score_mean, dtype: float64"
     },
     "execution_count": 82,
     "metadata": {},
     "output_type": "execute_result"
    }
   ],
   "source": [
    "df_list[0]"
   ],
   "metadata": {
    "collapsed": false
   }
  },
  {
   "cell_type": "code",
   "execution_count": 79,
   "outputs": [
    {
     "data": {
      "text/plain": "Empty DataFrame\nColumns: [DecisionTreeRegressor, RandomForestRegressor, ExplainableBoostingRegressor, SparseAdditiveBoostingRegressor, XGBRegressor, randomforestregressor, ridgecv]\nIndex: []",
      "text/html": "<div>\n<style scoped>\n    .dataframe tbody tr th:only-of-type {\n        vertical-align: middle;\n    }\n\n    .dataframe tbody tr th {\n        vertical-align: top;\n    }\n\n    .dataframe thead th {\n        text-align: right;\n    }\n</style>\n<table border=\"1\" class=\"dataframe\">\n  <thead>\n    <tr style=\"text-align: right;\">\n      <th></th>\n      <th>DecisionTreeRegressor</th>\n      <th>RandomForestRegressor</th>\n      <th>ExplainableBoostingRegressor</th>\n      <th>SparseAdditiveBoostingRegressor</th>\n      <th>XGBRegressor</th>\n      <th>randomforestregressor</th>\n      <th>ridgecv</th>\n    </tr>\n  </thead>\n  <tbody>\n  </tbody>\n</table>\n</div>"
     },
     "execution_count": 79,
     "metadata": {},
     "output_type": "execute_result"
    }
   ],
   "source": [
    "df_list[0]"
   ],
   "metadata": {
    "collapsed": false
   }
  },
  {
   "cell_type": "code",
   "execution_count": 68,
   "outputs": [
    {
     "data": {
      "text/plain": "['mlruns\\\\193398226061548739\\\\67bf8ed517364892887771fe434e92e6\\\\metrics/score_mean',\n 'mlruns\\\\277116109718977322\\\\7b8a01b0a1f849e898aac62fdb0f4b50\\\\metrics/score_mean',\n 'mlruns\\\\294147762646535044\\\\a85e2f7bd9954c9798981949eb136d8e\\\\metrics/score_mean',\n 'mlruns\\\\340200570096404728\\\\5a0225d32d8a46bca7b287e1ab60a83c\\\\metrics/score_mean',\n 'mlruns\\\\363236222016773736\\\\f23df4fd999e45699cfa4173a5c1037a\\\\metrics/score_mean',\n 'mlruns\\\\376411700217649586\\\\294b02db1f2a42d08797e30a57183be4\\\\metrics/score_mean',\n 'mlruns\\\\523010114342430557\\\\befe05eba6084ceb8a9b4ad1d4f76598\\\\metrics/score_mean',\n 'mlruns\\\\545860784819498741\\\\a421d7d462a34258a87e26e88f7f6c58\\\\metrics/score_mean',\n 'mlruns\\\\549225710293164941\\\\7ea5fc2b44fe4faf8686ebf9e5f43d5c\\\\metrics/score_mean',\n 'mlruns\\\\584153370672643316\\\\0c58d7f8147b491f818c24daa76bb449\\\\metrics/score_mean',\n 'mlruns\\\\641751541645141695\\\\c9fb8f6d672a4df49cfcd5d6ef4a589d\\\\metrics/score_mean',\n 'mlruns\\\\789699715279712378\\\\bee65e5be93a4a309252d69d4bb3b67c\\\\metrics/score_mean',\n 'mlruns\\\\819804152663949219\\\\2de347149be84213ab8f53fd30f3aa65\\\\metrics/score_mean',\n 'mlruns\\\\928893412991181260\\\\8dca976de0424192ad72f86269bf1f75\\\\metrics/score_mean']"
     },
     "execution_count": 68,
     "metadata": {},
     "output_type": "execute_result"
    }
   ],
   "source": [
    "exceptions"
   ],
   "metadata": {
    "collapsed": false
   }
  },
  {
   "cell_type": "code",
   "execution_count": 55,
   "outputs": [
    {
     "data": {
      "text/plain": "name\nDecisionTreeRegressor              4.0\nExplainableBoostingRegressor       3.0\nSparseAdditiveBoostingRegressor    5.0\nXGBRegressor                       1.0\nrandomforestregressor              2.0\nridgecv                            6.0\nName: score_mean, dtype: float64"
     },
     "execution_count": 55,
     "metadata": {},
     "output_type": "execute_result"
    }
   ],
   "source": [
    "exp  =ExperimentReader(\"mlruns/100940072706001416\")\n",
    "exp.mean_ranking()"
   ],
   "metadata": {
    "collapsed": false
   }
  },
  {
   "cell_type": "code",
   "execution_count": 47,
   "outputs": [
    {
     "data": {
      "text/plain": "name\nDecisionTreeRegressor              4.0\nExplainableBoostingRegressor       3.0\nSparseAdditiveBoostingRegressor    5.0\nXGBRegressor                       1.0\nrandomforestregressor              2.0\nridgecv                            6.0\nName: score_mean, dtype: float64"
     },
     "execution_count": 47,
     "metadata": {},
     "output_type": "execute_result"
    }
   ],
   "source": [
    "df.groupby(\"name\").score_mean.max().rank(ascending=False)"
   ],
   "metadata": {
    "collapsed": false
   }
  },
  {
   "cell_type": "code",
   "execution_count": 41,
   "outputs": [
    {
     "data": {
      "text/plain": "4     1.0\n1     2.0\n5     3.0\n7     4.0\n3     5.0\n6     6.0\n2     7.0\n8     8.0\n0     NaN\n9     NaN\n10    NaN\nName: score_mean, dtype: float64"
     },
     "execution_count": 41,
     "metadata": {},
     "output_type": "execute_result"
    }
   ],
   "source": [
    "df[\"score_mean\"].rank(ascending=False)"
   ],
   "metadata": {
    "collapsed": false
   }
  }
 ],
 "metadata": {
  "kernelspec": {
   "display_name": "Python 3",
   "language": "python",
   "name": "python3"
  },
  "language_info": {
   "codemirror_mode": {
    "name": "ipython",
    "version": 2
   },
   "file_extension": ".py",
   "mimetype": "text/x-python",
   "name": "python",
   "nbconvert_exporter": "python",
   "pygments_lexer": "ipython2",
   "version": "2.7.6"
  }
 },
 "nbformat": 4,
 "nbformat_minor": 0
}
